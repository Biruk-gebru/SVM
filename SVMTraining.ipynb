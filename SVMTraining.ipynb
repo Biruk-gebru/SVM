{
  "nbformat": 4,
  "nbformat_minor": 0,
  "metadata": {
    "colab": {
      "provenance": [],
      "gpuType": "T4",
      "authorship_tag": "ABX9TyMKO7XR3GQIizB57W5V3lij",
      "include_colab_link": true
    },
    "kernelspec": {
      "name": "python3",
      "display_name": "Python 3"
    },
    "language_info": {
      "name": "python"
    },
    "accelerator": "GPU"
  },
  "cells": [
    {
      "cell_type": "markdown",
      "metadata": {
        "id": "view-in-github",
        "colab_type": "text"
      },
      "source": [
        "<a href=\"https://colab.research.google.com/github/Biruk-gebru/SVM/blob/main/SVMTraining.ipynb\" target=\"_parent\"><img src=\"https://colab.research.google.com/assets/colab-badge.svg\" alt=\"Open In Colab\"/></a>"
      ]
    },
    {
      "cell_type": "code",
      "execution_count": null,
      "metadata": {
        "id": "194y_pcwCGnu"
      },
      "outputs": [],
      "source": [
        "import tensorflow as tf\n",
        "from tensorflow.keras import layers, models\n",
        "import matplotlib.pyplot as plt\n",
        "import numpy as np\n",
        "from sklearn.metrics import confusion_matrix, ConfusionMatrixDisplay, classification_report\n",
        "from sklearn.svm import SVC\n",
        "from sklearn.metrics import accuracy_score\n",
        "from sklearn.model_selection import GridSearchCV, cross_val_score\n",
        "import time\n",
        "import pandas as pd\n",
        "\n",
        "# Set random seeds for reproducibility\n",
        "np.random.seed(42)\n",
        "tf.random.set_seed(42)"
      ]
    },
    {
      "cell_type": "code",
      "source": [
        "def load_and_preprocess_data():\n",
        "    \"\"\"Load and preprocess MNIST dataset.\"\"\"\n",
        "    (X_train, y_train), (X_test, y_test) = tf.keras.datasets.mnist.load_data()\n",
        "\n",
        "    # Normalize and reshape\n",
        "    X_train = X_train.astype('float32') / 255.0\n",
        "    X_test = X_test.astype('float32') / 255.0\n",
        "    X_train_cnn = np.expand_dims(X_train, -1)\n",
        "    X_test_cnn = np.expand_dims(X_test, -1)\n",
        "\n",
        "    # Flatten for SVM\n",
        "    X_train_flat = X_train.reshape(len(X_train), -1)\n",
        "    X_test_flat = X_test.reshape(len(X_test), -1)\n",
        "\n",
        "    print(f\"Training data shape: {X_train.shape}\")\n",
        "    print(f\"Test data shape: {X_test.shape}\")\n",
        "    print(f\"CNN input shape: {X_train_cnn.shape}\")\n",
        "    print(f\"SVM input shape: {X_train_flat.shape}\")\n",
        "\n",
        "    return (X_train_cnn, X_test_cnn, X_train_flat, X_test_flat, y_train, y_test)\n"
      ],
      "metadata": {
        "id": "bzMnyadcHiE1"
      },
      "execution_count": null,
      "outputs": []
    },
    {
      "cell_type": "code",
      "source": [
        "def create_cnn_model():\n",
        "    \"\"\"Create CNN model.\"\"\"\n",
        "    model = models.Sequential([\n",
        "        layers.Conv2D(32, (3,3), activation='relu', input_shape=(28, 28, 1)),\n",
        "        layers.MaxPooling2D((2,2)),\n",
        "        layers.Conv2D(64, (3,3), activation='relu'),\n",
        "        layers.MaxPooling2D((2,2)),\n",
        "        layers.Flatten(),\n",
        "        layers.Dense(64, activation='relu'),\n",
        "        layers.Dense(10, activation='softmax')\n",
        "    ])\n",
        "\n",
        "    model.compile(optimizer='adam',\n",
        "                  loss='sparse_categorical_crossentropy',\n",
        "                  metrics=['accuracy'])\n",
        "    return model"
      ],
      "metadata": {
        "id": "VjwSjMoGUIBD"
      },
      "execution_count": null,
      "outputs": []
    },
    {
      "cell_type": "code",
      "source": [
        "def train_cnn(X_train, y_train, X_test, y_test):\n",
        "    \"\"\"Train CNN model.\"\"\"\n",
        "    print(\"Training CNN...\")\n",
        "    model = create_cnn_model()\n",
        "\n",
        "    start_time = time.time()\n",
        "    history = model.fit(X_train, y_train, epochs=5, batch_size=64,\n",
        "                        validation_data=(X_test, y_test), verbose=1)\n",
        "    training_time = time.time() - start_time\n",
        "\n",
        "    # Evaluate\n",
        "    test_loss, test_acc = model.evaluate(X_test, y_test, verbose=0)\n",
        "    print(f\"CNN Test accuracy: {test_acc:.4f}\")\n",
        "    print(f\"CNN Training time: {training_time:.2f} seconds\")\n",
        "\n",
        "    return model, test_acc, training_time, history\n"
      ],
      "metadata": {
        "id": "rb0TA7ioUcFU"
      },
      "execution_count": null,
      "outputs": []
    },
    {
      "cell_type": "code",
      "source": [
        "def create_feature_extractor(model):\n",
        "    \"\"\"Create feature extractor from CNN.\"\"\"\n",
        "    # Method A: Reuse existing layer instances on a fresh Input (fast & typical)\n",
        "    try:\n",
        "        inp = layers.Input(shape=(28,28,1))\n",
        "        x = inp\n",
        "        for layer in model.layers[:-1]:   # exclude final softmax Dense\n",
        "            x = layer(x)\n",
        "        feature_extractor = models.Model(inputs=inp, outputs=x)\n",
        "        print(\"Method A succeeded: feature_extractor created by re-using layers.\")\n",
        "        return feature_extractor\n",
        "    except Exception as e:\n",
        "        print(\"Method A failed:\", repr(e))\n",
        "\n",
        "        # Method B: Rebuild architecture and copy weights (fallback)\n",
        "        try:\n",
        "            inp = layers.Input(shape=(28,28,1))\n",
        "            x = layers.Conv2D(32, (3,3), activation='relu', name='conv1')(inp)\n",
        "            x = layers.MaxPooling2D((2,2), name='pool1')(x)\n",
        "            x = layers.Conv2D(64, (3,3), activation='relu', name='conv2')(x)\n",
        "            x = layers.MaxPooling2D((2,2), name='pool2')(x)\n",
        "            x = layers.Flatten(name='flatten')(x)\n",
        "            x = layers.Dense(64, activation='relu', name='features')(x)\n",
        "\n",
        "            feature_extractor = models.Model(inputs=inp, outputs=x)\n",
        "            print(\"Rebuilt feature_extractor architecture. Now copying weights...\")\n",
        "\n",
        "            # copy weights layer-by-layer (skip input layer in feature_extractor)\n",
        "            new_layers = [l for l in feature_extractor.layers if len(l.get_weights())>0]\n",
        "            old_layers = [l for l in model.layers[:-1] if len(l.get_weights())>0]  # exclude final classifier\n",
        "            for new_l, old_l in zip(new_layers, old_layers):\n",
        "                try:\n",
        "                    new_l.set_weights(old_l.get_weights())\n",
        "                except Exception as we:\n",
        "                    print(f\"Warning: could not set weights for {new_l.name}: {we}\")\n",
        "\n",
        "            print(\"Method B succeeded: weights copied to rebuilt extractor.\")\n",
        "            return feature_extractor\n",
        "        except Exception as e2:\n",
        "            print(\"Method B failed too:\", repr(e2))\n",
        "            raise RuntimeError(\"Could not create a feature extractor.\")\n"
      ],
      "metadata": {
        "id": "-_GAf4CVUgPj"
      },
      "execution_count": null,
      "outputs": []
    },
    {
      "cell_type": "code",
      "source": [
        "def train_cnn_svm(X_train_features, y_train, X_test_features, y_test):\n",
        "    \"\"\"Train CNN+SVM model.\"\"\"\n",
        "    print(\"Training CNN+SVM...\")\n",
        "\n",
        "    # Use subset for faster training\n",
        "    subset_size = 10000\n",
        "    X_train_small = X_train_features[:subset_size]\n",
        "    y_train_small = y_train[:subset_size]\n",
        "\n",
        "    # Grid search for best parameters\n",
        "    param_grid = {\n",
        "        'C': [1, 10, 100],\n",
        "        'gamma': [0.01, 0.1, 0.5],\n",
        "        'kernel': ['rbf', 'linear']\n",
        "    }\n",
        "\n",
        "    start_time = time.time()\n",
        "    svm = GridSearchCV(SVC(), param_grid, cv=3, n_jobs=-1, verbose=1)\n",
        "    svm.fit(X_train_small, y_train_small)\n",
        "    training_time = time.time() - start_time\n",
        "\n",
        "    print(f\"Best parameters: {svm.best_params_}\")\n",
        "    print(f\"Best CV score: {svm.best_score_:.4f}\")\n",
        "\n",
        "    # Predict on test set\n",
        "    y_pred = svm.predict(X_test_features)\n",
        "    test_acc = accuracy_score(y_test, y_pred)\n",
        "    print(f\"CNN+SVM test accuracy: {test_acc:.4f}\")\n",
        "    print(f\"CNN+SVM Training time: {training_time:.2f} seconds\")\n",
        "\n",
        "    return svm, test_acc, training_time, y_pred\n"
      ],
      "metadata": {
        "id": "3gueAsRZUnEa"
      },
      "execution_count": null,
      "outputs": []
    },
    {
      "cell_type": "code",
      "source": [
        "def train_pure_svm(X_train_flat, y_train, X_test_flat, y_test):\n",
        "    \"\"\"Train pure SVM model.\"\"\"\n",
        "    print(\"Training Pure SVM...\")\n",
        "\n",
        "    # Use subset for faster training\n",
        "    subset_size = 5000\n",
        "    X_train_small = X_train_flat[:subset_size]\n",
        "    y_train_small = y_train[:subset_size]\n",
        "\n",
        "    # Grid search for best parameters\n",
        "    param_grid = {\n",
        "        'C': [1, 10, 100],\n",
        "        'gamma': [0.001, 0.01, 0.1],\n",
        "        'kernel': ['rbf', 'linear']\n",
        "    }\n",
        "\n",
        "    start_time = time.time()\n",
        "    svm = GridSearchCV(SVC(), param_grid, cv=3, n_jobs=-1, verbose=1)\n",
        "    svm.fit(X_train_small, y_train_small)\n",
        "    training_time = time.time() - start_time\n",
        "\n",
        "    print(f\"Best parameters: {svm.best_params_}\")\n",
        "    print(f\"Best CV score: {svm.best_score_:.4f}\")\n",
        "\n",
        "    # Predict on test set\n",
        "    y_pred = svm.predict(X_test_flat)\n",
        "    test_acc = accuracy_score(y_test, y_pred)\n",
        "    print(f\"Pure SVM test accuracy: {test_acc:.4f}\")\n",
        "    print(f\"Pure SVM Training time: {training_time:.2f} seconds\")\n",
        "\n",
        "    return svm, test_acc, training_time, y_pred\n"
      ],
      "metadata": {
        "id": "caQZ8ZQuU2m2"
      },
      "execution_count": null,
      "outputs": []
    },
    {
      "cell_type": "code",
      "source": [
        "def plot_results(cnn_acc, cnn_svm_acc, svm_acc, cnn_time, cnn_svm_time, svm_time):\n",
        "    \"\"\"Plot comparison results.\"\"\"\n",
        "    models = ['CNN', 'CNN+SVM', 'Pure SVM']\n",
        "    accuracies = [cnn_acc, cnn_svm_acc, svm_acc]\n",
        "    times = [cnn_time, cnn_svm_time, svm_time]\n",
        "    colors = ['#2E86AB', '#A23B72', '#F18F01']\n",
        "\n",
        "    plt.figure(figsize=(12, 5))\n",
        "\n",
        "    # Accuracy comparison\n",
        "    plt.subplot(1, 2, 1)\n",
        "    bars = plt.bar(models, accuracies, color=colors)\n",
        "    plt.title('Test Accuracy Comparison')\n",
        "    plt.ylabel('Accuracy')\n",
        "    plt.ylim(0.85, 1.0)\n",
        "    for bar, acc in zip(bars, accuracies):\n",
        "        plt.text(bar.get_x() + bar.get_width()/2, bar.get_height() + 0.005,\n",
        "                f'{acc:.3f}', ha='center', va='bottom')\n",
        "\n",
        "    # Training time comparison\n",
        "    plt.subplot(1, 2, 2)\n",
        "    bars = plt.bar(models, times, color=colors)\n",
        "    plt.title('Training Time Comparison')\n",
        "    plt.ylabel('Time (seconds)')\n",
        "    for bar, time_val in zip(bars, times):\n",
        "        plt.text(bar.get_x() + bar.get_width()/2, bar.get_height() + 0.5,\n",
        "                f'{time_val:.1f}s', ha='center', va='bottom')\n",
        "\n",
        "    plt.tight_layout()\n",
        "    plt.show()"
      ],
      "metadata": {
        "id": "D2BLPke5WWhT"
      },
      "execution_count": null,
      "outputs": []
    },
    {
      "cell_type": "code",
      "source": [
        "def print_comparison_table(cnn_acc, cnn_svm_acc, svm_acc, cnn_time, cnn_svm_time, svm_time):\n",
        "    \"\"\"Print comparison table.\"\"\"\n",
        "    results = {\n",
        "        'Model': ['CNN', 'CNN+SVM', 'Pure SVM'],\n",
        "        'Test Accuracy': [cnn_acc, cnn_svm_acc, svm_acc],\n",
        "        'Training Time (s)': [cnn_time, cnn_svm_time, svm_time]\n",
        "    }\n",
        "\n",
        "    results_df = pd.DataFrame(results)\n",
        "    print(\"\\nModel Comparison Results:\")\n",
        "    print(results_df.to_string(index=False))\n"
      ],
      "metadata": {
        "id": "y2oXcSEMXcTy"
      },
      "execution_count": null,
      "outputs": []
    },
    {
      "cell_type": "code",
      "source": [
        "def main():\n",
        "    \"\"\"Main function to run the complete analysis.\"\"\"\n",
        "    print(\"Enhanced Model Comparison: CNN vs CNN+SVM vs SVM on MNIST\")\n",
        "    print(\"=\" * 60)\n",
        "\n",
        "    # Load data\n",
        "    X_train_cnn, X_test_cnn, X_train_flat, X_test_flat, y_train, y_test = load_and_preprocess_data()\n",
        "\n",
        "    # Train CNN\n",
        "    cnn_model, cnn_acc, cnn_time, cnn_history = train_cnn(X_train_cnn, y_train, X_test_cnn, y_test)\n",
        "\n",
        "    # Extract features for CNN+SVM\n",
        "    print(\"\\nExtracting CNN features...\")\n",
        "    feature_extractor = create_feature_extractor(cnn_model)\n",
        "    X_train_features = feature_extractor.predict(X_train_cnn, batch_size=128, verbose=1)\n",
        "    X_test_features = feature_extractor.predict(X_test_cnn, batch_size=128, verbose=1)\n",
        "    print(f\"Feature shapes: {X_train_features.shape}, {X_test_features.shape}\")\n",
        "\n",
        "    # Train CNN+SVM\n",
        "    cnn_svm_model, cnn_svm_acc, cnn_svm_time, cnn_svm_pred = train_cnn_svm(\n",
        "        X_train_features, y_train, X_test_features, y_test)\n",
        "\n",
        "    # Train Pure SVM\n",
        "    svm_model, svm_acc, svm_time, svm_pred = train_pure_svm(\n",
        "        X_train_flat, y_train, X_test_flat, y_test)\n",
        "\n",
        "    # Print results\n",
        "    print_comparison_table(cnn_acc, cnn_svm_acc, svm_acc, cnn_time, cnn_svm_time, svm_time)\n",
        "\n",
        "    # Plot results\n",
        "    plot_results(cnn_acc, cnn_svm_acc, svm_acc, cnn_time, cnn_svm_time, svm_time)\n",
        "\n",
        "    # Print detailed reports\n",
        "    print(\"\\n\" + \"=\"*60)\n",
        "    print(\"DETAILED ANALYSIS\")\n",
        "    print(\"=\"*60)\n",
        "\n",
        "    # CNN predictions\n",
        "    y_pred_cnn = np.argmax(cnn_model.predict(X_test_cnn), axis=1)\n",
        "\n",
        "    print(\"\\nCNN Classification Report:\")\n",
        "    print(classification_report(y_test, y_pred_cnn))\n",
        "\n",
        "    print(\"\\nCNN+SVM Classification Report:\")\n",
        "    print(classification_report(y_test, cnn_svm_pred))\n",
        "\n",
        "    print(\"\\nPure SVM Classification Report:\")\n",
        "    print(classification_report(y_test, svm_pred))\n",
        "\n",
        "if __name__ == \"__main__\":\n",
        "    main()"
      ],
      "metadata": {
        "colab": {
          "base_uri": "https://localhost:8080/",
          "height": 1000
        },
        "id": "08s97hCMYZlE",
        "outputId": "ea18d38c-2ade-4600-9bfa-054d3872fb58"
      },
      "execution_count": null,
      "outputs": [
        {
          "output_type": "stream",
          "name": "stdout",
          "text": [
            "Enhanced Model Comparison: CNN vs CNN+SVM vs SVM on MNIST\n",
            "============================================================\n",
            "Training data shape: (60000, 28, 28)\n",
            "Test data shape: (10000, 28, 28)\n",
            "CNN input shape: (60000, 28, 28, 1)\n",
            "SVM input shape: (60000, 784)\n",
            "Training CNN...\n"
          ]
        },
        {
          "output_type": "stream",
          "name": "stderr",
          "text": [
            "/usr/local/lib/python3.11/dist-packages/keras/src/layers/convolutional/base_conv.py:113: UserWarning: Do not pass an `input_shape`/`input_dim` argument to a layer. When using Sequential models, prefer using an `Input(shape)` object as the first layer in the model instead.\n",
            "  super().__init__(activity_regularizer=activity_regularizer, **kwargs)\n"
          ]
        },
        {
          "output_type": "stream",
          "name": "stdout",
          "text": [
            "Epoch 1/5\n",
            "\u001b[1m938/938\u001b[0m \u001b[32m━━━━━━━━━━━━━━━━━━━━\u001b[0m\u001b[37m\u001b[0m \u001b[1m8s\u001b[0m 6ms/step - accuracy: 0.8835 - loss: 0.4011 - val_accuracy: 0.9810 - val_loss: 0.0615\n",
            "Epoch 2/5\n",
            "\u001b[1m938/938\u001b[0m \u001b[32m━━━━━━━━━━━━━━━━━━━━\u001b[0m\u001b[37m\u001b[0m \u001b[1m4s\u001b[0m 4ms/step - accuracy: 0.9828 - loss: 0.0582 - val_accuracy: 0.9848 - val_loss: 0.0469\n",
            "Epoch 3/5\n",
            "\u001b[1m938/938\u001b[0m \u001b[32m━━━━━━━━━━━━━━━━━━━━\u001b[0m\u001b[37m\u001b[0m \u001b[1m3s\u001b[0m 3ms/step - accuracy: 0.9881 - loss: 0.0388 - val_accuracy: 0.9827 - val_loss: 0.0519\n",
            "Epoch 4/5\n",
            "\u001b[1m938/938\u001b[0m \u001b[32m━━━━━━━━━━━━━━━━━━━━\u001b[0m\u001b[37m\u001b[0m \u001b[1m5s\u001b[0m 4ms/step - accuracy: 0.9913 - loss: 0.0286 - val_accuracy: 0.9838 - val_loss: 0.0478\n",
            "Epoch 5/5\n",
            "\u001b[1m938/938\u001b[0m \u001b[32m━━━━━━━━━━━━━━━━━━━━\u001b[0m\u001b[37m\u001b[0m \u001b[1m5s\u001b[0m 3ms/step - accuracy: 0.9940 - loss: 0.0211 - val_accuracy: 0.9873 - val_loss: 0.0390\n",
            "CNN Test accuracy: 0.9873\n",
            "CNN Training time: 27.33 seconds\n",
            "\n",
            "Extracting CNN features...\n",
            "Method A succeeded: feature_extractor created by re-using layers.\n",
            "\u001b[1m469/469\u001b[0m \u001b[32m━━━━━━━━━━━━━━━━━━━━\u001b[0m\u001b[37m\u001b[0m \u001b[1m1s\u001b[0m 2ms/step\n",
            "\u001b[1m79/79\u001b[0m \u001b[32m━━━━━━━━━━━━━━━━━━━━\u001b[0m\u001b[37m\u001b[0m \u001b[1m0s\u001b[0m 4ms/step\n",
            "Feature shapes: (60000, 64), (10000, 64)\n",
            "Training CNN+SVM...\n",
            "Fitting 3 folds for each of 18 candidates, totalling 54 fits\n",
            "Best parameters: {'C': 1, 'gamma': 0.01, 'kernel': 'linear'}\n",
            "Best CV score: 0.9928\n",
            "CNN+SVM test accuracy: 0.9887\n",
            "CNN+SVM Training time: 139.26 seconds\n",
            "Training Pure SVM...\n",
            "Fitting 3 folds for each of 18 candidates, totalling 54 fits\n",
            "Best parameters: {'C': 10, 'gamma': 0.01, 'kernel': 'rbf'}\n",
            "Best CV score: 0.9490\n",
            "Pure SVM test accuracy: 0.9542\n",
            "Pure SVM Training time: 164.39 seconds\n",
            "\n",
            "Model Comparison Results:\n",
            "   Model  Test Accuracy  Training Time (s)\n",
            "     CNN         0.9873          27.334743\n",
            " CNN+SVM         0.9887         139.255363\n",
            "Pure SVM         0.9542         164.388597\n"
          ]
        },
        {
          "output_type": "display_data",
          "data": {
            "text/plain": [
              "<Figure size 1200x500 with 2 Axes>"
            ],
            "image/png": "[encoded data removed]"
          },
          "metadata": {}
        },
        {
          "output_type": "stream",
          "name": "stdout",
          "text": [
            "\n",
            "============================================================\n",
            "DETAILED ANALYSIS\n",
            "============================================================\n",
            "\u001b[1m313/313\u001b[0m \u001b[32m━━━━━━━━━━━━━━━━━━━━\u001b[0m\u001b[37m\u001b[0m \u001b[1m1s\u001b[0m 2ms/step\n",
            "\n",
            "CNN Classification Report:\n",
            "              precision    recall  f1-score   support\n",
            "\n",
            "           0       0.99      0.99      0.99       980\n",
            "           1       0.99      1.00      1.00      1135\n",
            "           2       0.98      0.99      0.98      1032\n",
            "           3       0.98      0.99      0.99      1010\n",
            "           4       1.00      0.99      0.99       982\n",
            "           5       0.97      0.99      0.98       892\n",
            "           6       0.99      0.99      0.99       958\n",
            "           7       0.98      0.99      0.98      1028\n",
            "           8       1.00      0.97      0.98       974\n",
            "           9       0.99      0.98      0.98      1009\n",
            "\n",
            "    accuracy                           0.99     10000\n",
            "   macro avg       0.99      0.99      0.99     10000\n",
            "weighted avg       0.99      0.99      0.99     10000\n",
            "\n",
            "\n",
            "CNN+SVM Classification Report:\n",
            "              precision    recall  f1-score   support\n",
            "\n",
            "           0       0.99      0.99      0.99       980\n",
            "           1       0.99      1.00      0.99      1135\n",
            "           2       0.99      0.99      0.99      1032\n",
            "           3       0.99      0.99      0.99      1010\n",
            "           4       0.99      0.99      0.99       982\n",
            "           5       0.99      0.98      0.98       892\n",
            "           6       0.99      0.99      0.99       958\n",
            "           7       0.99      0.98      0.98      1028\n",
            "           8       0.98      0.99      0.98       974\n",
            "           9       0.99      0.98      0.98      1009\n",
            "\n",
            "    accuracy                           0.99     10000\n",
            "   macro avg       0.99      0.99      0.99     10000\n",
            "weighted avg       0.99      0.99      0.99     10000\n",
            "\n",
            "\n",
            "Pure SVM Classification Report:\n",
            "              precision    recall  f1-score   support\n",
            "\n",
            "           0       0.97      0.99      0.98       980\n",
            "           1       0.97      0.99      0.98      1135\n",
            "           2       0.95      0.95      0.95      1032\n",
            "           3       0.94      0.95      0.95      1010\n",
            "           4       0.93      0.97      0.95       982\n",
            "           5       0.95      0.94      0.94       892\n",
            "           6       0.96      0.97      0.97       958\n",
            "           7       0.96      0.93      0.95      1028\n",
            "           8       0.96      0.93      0.94       974\n",
            "           9       0.94      0.93      0.93      1009\n",
            "\n",
            "    accuracy                           0.95     10000\n",
            "   macro avg       0.95      0.95      0.95     10000\n",
            "weighted avg       0.95      0.95      0.95     10000\n",
            "\n"
          ]
        }
      ]
    },
    {
      "cell_type": "code",
      "source": [],
      "metadata": {
        "id": "T2ofZVPWZGLD"
      },
      "execution_count": null,
      "outputs": []
    }
  ]
}